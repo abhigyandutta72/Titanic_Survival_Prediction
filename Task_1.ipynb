{
 "cells": [
  {
   "cell_type": "code",
   "execution_count": null,
   "metadata": {},
   "outputs": [
    {
     "name": "stdout",
     "output_type": "stream",
     "text": [
      "Loading dataset from: C:\\LEARNING\\Growth Link\\tested.csv\n",
      "Accuracy: 1.0\n",
      "Precision: 1.0\n",
      "Recall: 1.0\n",
      "F1 Score: 1.0\n",
      "Confusion Matrix:\n",
      " [[53  0]\n",
      " [ 0 31]]\n",
      "Model saved to 'C:\\LEARNING\\Growth Link\\model.pkl'\n"
     ]
    }
   ],
   "source": [
    "import pandas as pd\n",
    "from sklearn.model_selection import train_test_split\n",
    "from sklearn.ensemble import RandomForestClassifier\n",
    "from sklearn.metrics import accuracy_score, precision_score, recall_score, f1_score, confusion_matrix\n",
    "from sklearn.preprocessing import StandardScaler\n",
    "import joblib\n",
    "\n",
    "data_path = r\"C:\\LEARNING\\Growth Link\\tested.csv\"  \n",
    "model_path = r\"C:\\LEARNING\\Growth Link\\model.pkl\"  \n",
    "\n",
    "# Load the dataset\n",
    "print(f\"Loading dataset from: {data_path}\")\n",
    "df = pd.read_csv(data_path)\n",
    "\n",
    "# Handle missing values safely\n",
    "df = df.copy()  # Avoid chained assignment issues\n",
    "df.loc[:, 'Age'] = df['Age'].fillna(df['Age'].median())  # Fill missing Age with median\n",
    "df.loc[:, 'Embarked'] = df['Embarked'].fillna(df['Embarked'].mode()[0])  # Fill missing Embarked with mode\n",
    "\n",
    "# Drop unnecessary column\n",
    "if 'Cabin' in df.columns:\n",
    "    df.drop('Cabin', axis=1, inplace=True)  \n",
    "\n",
    "# Encode categorical variables\n",
    "df.loc[:, 'Sex'] = df['Sex'].map({'male': 0, 'female': 1})  # Convert Sex to binary\n",
    "df = pd.get_dummies(df, columns=['Embarked', 'Pclass'], drop_first=True)  # One-hot encode categorical features\n",
    "\n",
    "# Normalize numerical features\n",
    "scaler = StandardScaler()\n",
    "df[['Age', 'Fare']] = scaler.fit_transform(df[['Age', 'Fare']])\n",
    "\n",
    "# Drop irrelevant columns\n",
    "df.drop(columns=['PassengerId', 'Name', 'Ticket'], inplace=True, errors='ignore')\n",
    "\n",
    "# Split the data\n",
    "X = df.drop(columns=['Survived'], errors='ignore')  # Features\n",
    "y = df['Survived']  # Target variable\n",
    "X_train, X_test, y_train, y_test = train_test_split(X, y, test_size=0.2, random_state=42, stratify=y)\n",
    "\n",
    "# Train the model\n",
    "model = RandomForestClassifier(random_state=42)\n",
    "model.fit(X_train, y_train)\n",
    "\n",
    "# Evaluate the model\n",
    "y_pred = model.predict(X_test)\n",
    "print(\"Accuracy:\", accuracy_score(y_test, y_pred))\n",
    "print(\"Precision:\", precision_score(y_test, y_pred))\n",
    "print(\"Recall:\", recall_score(y_test, y_pred))\n",
    "print(\"F1 Score:\", f1_score(y_test, y_pred))\n",
    "print(\"Confusion Matrix:\\n\", confusion_matrix(y_test, y_pred))\n",
    "\n",
    "# Save the model\n",
    "joblib.dump(model, model_path)\n",
    "print(f\"Model saved to '{model_path}'\")\n"
   ]
  }
 ],
 "metadata": {
  "kernelspec": {
   "display_name": "Python 3",
   "language": "python",
   "name": "python3"
  },
  "language_info": {
   "codemirror_mode": {
    "name": "ipython",
    "version": 3
   },
   "file_extension": ".py",
   "mimetype": "text/x-python",
   "name": "python",
   "nbconvert_exporter": "python",
   "pygments_lexer": "ipython3",
   "version": "3.12.4"
  }
 },
 "nbformat": 4,
 "nbformat_minor": 2
}
